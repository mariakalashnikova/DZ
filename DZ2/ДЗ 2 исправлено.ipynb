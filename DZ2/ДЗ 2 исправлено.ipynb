{
 "cells": [
  {
   "cell_type": "code",
   "execution_count": null,
   "metadata": {},
   "outputs": [],
   "source": [
    "Даны 2 переменных, в которых хранятся строки произвольной длины: phrase_1 и phrase_2.\n",
    "Напишите код, который проверяет какая из этих строк длиннее."
   ]
  },
  {
   "cell_type": "code",
   "execution_count": 3,
   "metadata": {},
   "outputs": [
    {
     "name": "stdout",
     "output_type": "stream",
     "text": [
      "Фраза 1 длиннее фразы 2\n"
     ]
    }
   ],
   "source": [
    "phrase_1 = 'Как всегда, портовый лоцман тотчас же отбыл из гавани, миновал замок Иф и пристал к кораблю между мысом Моржион и островом Рион.'\n",
    "phrase_2 = 'Завидев этого человека, молодой моряк отошёл от лоцмана и, сняв шляпу, стал у борта.'\n",
    "if len(phrase_1) > len(phrase_2): \n",
    "    print('Фраза 1 длиннее фразы 2')\n",
    "elif phrase_1 < phrase_2:\n",
    "    print('Фраза 2 длиннее фразы 1')\n",
    "else:\n",
    "    print('Фразы равной длины')"
   ]
  },
  {
   "cell_type": "code",
   "execution_count": null,
   "metadata": {},
   "outputs": [],
   "source": [
    "Дана переменная, в которой хранится четырехзначное число (год). \n",
    "Необходимо написать программу, которая выведет, является ли данный год високосным или обычным."
   ]
  },
  {
   "cell_type": "code",
   "execution_count": 2,
   "metadata": {},
   "outputs": [
    {
     "name": "stdout",
     "output_type": "stream",
     "text": [
      "Обычный год\n"
     ]
    }
   ],
   "source": [
    "year = 2003\n",
    "if year%4 != 0 or year%100 == 0 and year%400 != 0:\n",
    "    print('Обычный год')\n",
    "else:\n",
    "    print('Високосный год')"
   ]
  },
  {
   "cell_type": "code",
   "execution_count": null,
   "metadata": {},
   "outputs": [],
   "source": [
    "Необходимо написать программу, которая будет запрашивать у пользователя месяц и дату рождения и выводить соответствующий знак зодиака."
   ]
  },
  {
   "cell_type": "code",
   "execution_count": 12,
   "metadata": {},
   "outputs": [
    {
     "name": "stdout",
     "output_type": "stream",
     "text": [
      "Введите месяц рождения5\n",
      "Введите день рождения25\n",
      "Ваш знак зодиака:Близнецы\n"
     ]
    }
   ],
   "source": [
    "month_of_birth = int(input('Введите месяц рождения'))\n",
    "day_of_birth = int(input('Введите день рождения'))\n",
    "if (day_of_birth >= 21 and day_of_birth<=31 and month_of_birth==3) or (day_of_birth>=1 and day_of_birth<=20 and month_of_birth==4):\n",
    "    print('Ваш знак зодиака:Овен')\n",
    "elif (day_of_birth >= 21 and day_of_birth<=31 and month_of_birth==4) or (day_of_birth>=1 and day_of_birth<=21 and month_of_birth==5):\n",
    "    print('Ваш знак зодиака:Телец')\n",
    "elif (day_of_birth >= 22 and day_of_birth<=31 and month_of_birth==5) or (day_of_birth>=1 and day_of_birth<=21 and month_of_birth==6):\n",
    "    print('Ваш знак зодиака:Близнецы')\n",
    "elif (day_of_birth >= 22 and day_of_birth<=30 and month_of_birth==6) or (day_of_birth>=1 and day_of_birth<=22 and month_of_birth==7):\n",
    "    print('Ваш знак зодиака:Рак') \n",
    "elif (day_of_birth >= 23 and day_of_birth<=31 and month_of_birth==7) or (day_of_birth>=1 and day_of_birth<=21 and month_of_birth==8):\n",
    "    print('Ваш знак зодиака:Лев')\n",
    "elif (day_of_birth >= 22 and day_of_birth<=31 and month_of_birth==8) or (day_of_birth>=1 and day_of_birth<=23 and month_of_birth==9):\n",
    "    print('Ваш знак зодиака:Дева')\n",
    "elif (day_of_birth >= 24 and day_of_birth<=30 and month_of_birth==9) or (day_of_birth>=1 and day_of_birth<=31 and month_of_birth==10):\n",
    "    print('Ваш знак зодиака:Весы')\n",
    "elif (day_of_birth >= 23 and day_of_birth<=31 and month_of_birth==10) or (day_of_birth>=1 and day_of_birth<=22 and month_of_birth==11):\n",
    "    print('Ваш знак зодиака:Скорпион')\n",
    "elif (day_of_birth >= 23 and day_of_birth<=30 and month_of_birth==11) or (day_of_birth>=1 and day_of_birth<=22 and month_of_birth==12):\n",
    "    print('Ваш знак зодиака:Стрелец')\n",
    "elif (day_of_birth >= 23 and day_of_birth<=31 and month_of_birth==12) or (day_of_birth>=1 and day_of_birth<=20 and month_of_birth==1):\n",
    "    print('Ваш знак зодиака:Козерог')\n",
    "elif (day_of_birth >= 21 and day_of_birth<=30 and month_of_birth==1) or (day_of_birth>=1 and day_of_birth<=19 and month_of_birth==2):\n",
    "    print('Ваш знак зодиака:Водолей')\n",
    "elif (day_of_birth>=20 and day_of_birth<=29 and month_of_birth==2) or (day_of_birth>=1 and day_of_birth<=20 and month_of_birth==3):\n",
    "    print('Ваш знак зодиака:Рыбы')\n",
    "else:\n",
    "    print('Некоректное значение даты и месяца рождения')\n",
    "    "
   ]
  },
  {
   "cell_type": "code",
   "execution_count": null,
   "metadata": {},
   "outputs": [],
   "source": [
    "Вам нужно написать программу для подбора упаковок по размерам товара. Размеры (ширина, длина, высота) хранятся в переменных (в сантиметрах):\n",
    "\n",
    "Используйте следующие правила:\n",
    "\n",
    "если каждое из трех измерений менее 15 сантиметров, то выведите на экран \"Коробка №1\";\n",
    "если хотя бы одно из измерений больше 15 сантиметров, но менее 50 сантиметров, то выводите \"Коробка №2\";\n",
    "если длина товара больше 2 метров, то выводите \"Упаковка для лыж\";\n",
    "во всех остальных случаях выводите \"Стандартная коробка №3\"."
   ]
  },
  {
   "cell_type": "code",
   "execution_count": 6,
   "metadata": {},
   "outputs": [
    {
     "name": "stdout",
     "output_type": "stream",
     "text": [
      "Стандартная коробка №3\n"
     ]
    }
   ],
   "source": [
    "width = 10\n",
    "length = 100\n",
    "height = 15\n",
    "if (width < 15 and length < 15 and height < 15):\n",
    "    print('Коробка №1')\n",
    "elif (50 > width > 15 or 50 > length > 15 or 50 > height > 15):\n",
    "    print('Коробка №2')\n",
    "elif (length > 200):\n",
    "    print('Упаковка для лыж')\n",
    "else:\n",
    "    print('Стандартная коробка №3')"
   ]
  },
  {
   "cell_type": "code",
   "execution_count": 7,
   "metadata": {},
   "outputs": [
    {
     "name": "stdout",
     "output_type": "stream",
     "text": [
      "Упаковка для лыж\n"
     ]
    }
   ],
   "source": [
    "width = 45\n",
    "length = 205\n",
    "height = 45\n",
    "if (length > 200):\n",
    "    print('Упаковка для лыж')\n",
    "elif (width < 15 and length < 15 and height < 15):\n",
    "    print('Коробка №1')\n",
    "elif (50 > width > 15 or 50 > length > 15 or 50 > height > 15):\n",
    "    print('Коробка №2')\n",
    "else:\n",
    "    print('Стандартная коробка №3')"
   ]
  }
 ],
 "metadata": {
  "kernelspec": {
   "display_name": "Python 3",
   "language": "python",
   "name": "python3"
  },
  "language_info": {
   "codemirror_mode": {
    "name": "ipython",
    "version": 3
   },
   "file_extension": ".py",
   "mimetype": "text/x-python",
   "name": "python",
   "nbconvert_exporter": "python",
   "pygments_lexer": "ipython3",
   "version": "3.8.5"
  }
 },
 "nbformat": 4,
 "nbformat_minor": 4
}
