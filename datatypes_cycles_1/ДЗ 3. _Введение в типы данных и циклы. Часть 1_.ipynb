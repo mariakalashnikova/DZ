{
 "cells": [
  {
   "cell_type": "markdown",
   "metadata": {},
   "source": [
    "Дана переменная, в которой хранится слово из латинских букв. Напишите код, который выводит на экран:\n",
    "\n",
    "среднюю букву, если число букв в слове нечетное;\n",
    "две средних буквы, если число букв четное."
   ]
  },
  {
   "cell_type": "code",
   "execution_count": 43,
   "metadata": {},
   "outputs": [
    {
     "name": "stdout",
     "output_type": "stream",
     "text": [
      "i\n"
     ]
    }
   ],
   "source": [
    "word='jupiter'\n",
    "len_word=len(word)\n",
    "middle_word=len_word/2\n",
    "if len_word%2==0:\n",
    "    print(word[int(middle_word)-1:int(middle_word)+1])\n",
    "else:\n",
    "    print(word[int(middle_word)])"
   ]
  },
  {
   "cell_type": "markdown",
   "metadata": {},
   "source": [
    "Напишите программу, которая последовательно запрашивает у пользователя числа (по одному за раз) \n",
    "и после первого нуля выводит сумму всех ранее введенных чисел."
   ]
  },
  {
   "cell_type": "code",
   "execution_count": 23,
   "metadata": {
    "scrolled": true
   },
   "outputs": [
    {
     "name": "stdout",
     "output_type": "stream",
     "text": [
      "Введите число 0\n",
      "0\n"
     ]
    }
   ],
   "source": [
    "number=int(input('Введите число '))\n",
    "sum=0\n",
    "sum=sum+number\n",
    "while number!=0:\n",
    "    number=int(input('Введите число '))\n",
    "    sum=sum+number\n",
    "print(sum)"
   ]
  },
  {
   "cell_type": "markdown",
   "metadata": {},
   "source": [
    "Мы делаем MVP dating-сервиса, и у нас есть список парней и девушек.\n",
    "Выдвигаем гипотезу: лучшие рекомендации мы получим, если просто отсортируем имена по алфавиту \n",
    "и познакомим людей с одинаковыми индексами после сортировки! \n",
    "Но мы не будем никого знакомить, если кто-то может остаться без пары"
   ]
  },
  {
   "cell_type": "code",
   "execution_count": 53,
   "metadata": {},
   "outputs": [
    {
     "name": "stdout",
     "output_type": "stream",
     "text": [
      "Andrey и Julia\n",
      "Grisha и Kate\n",
      "Petr и Kira\n",
      "Slava и Liza\n",
      "Vova и Masha\n"
     ]
    }
   ],
   "source": [
    "boys=['Petr', 'Grisha', 'Vova', 'Andrey', 'Slava']\n",
    "girls=['Kate', 'Liza', 'Kira', 'Masha','Julia']\n",
    "if len (boys)!=len(girls):\n",
    "    print('пары нет')\n",
    "else:\n",
    "    boys.sort(),girls.sort()\n",
    "    boys,girls\n",
    "    list(zip(boys,girls))\n",
    "    for el in zip(boys,girls):\n",
    "        print(el[0]+' и '+el[1])"
   ]
  },
  {
   "cell_type": "markdown",
   "metadata": {},
   "source": [
    "У нас есть список, содержащий информацию о среднедневной температуре в Фаренгейтах за произвольный период по странам (структура данных в примере). Необходимо написать код, который рассчитает среднюю температуру за период в Цельсиях(!) для каждой страны."
   ]
  },
  {
   "cell_type": "code",
   "execution_count": 211,
   "metadata": {},
   "outputs": [
    {
     "name": "stdout",
     "output_type": "stream",
     "text": [
      "Средняя температура в странах:\n",
      "Thailand - 23.9 C\n",
      "Germany - 13.8 C\n",
      "Russia - 3.7 C\n",
      "Poland - 12.0 C\n"
     ]
    }
   ],
   "source": [
    "a = [\n",
    "    ['Thailand', [75.2, 77, 78.8, 73.4, 68, 75.2, 77]],\n",
    "    ['Germany', [57.2, 55.4, 59, 59, 53.6]],\n",
    "    ['Russia', [35.6, 37.4, 39.2, 41, 42.8, 39.2, 35.6]],\n",
    "    ['Poland', [50, 50, 53.6, 57.2, 55.4, 55.4]]]\n",
    "print ('Средняя температура в странах:')\n",
    "for x in [0,1,2,3]: \n",
    "    q = len(a[x][1]) \n",
    "    s = sum(a[x][1]) \n",
    "    r = s/q \n",
    "    r = round ((r-32)/1.8,1)\n",
    "    print ((a[x][0]),'-',r,'C')"
   ]
  }
 ],
 "metadata": {
  "kernelspec": {
   "display_name": "Python 3",
   "language": "python",
   "name": "python3"
  },
  "language_info": {
   "codemirror_mode": {
    "name": "ipython",
    "version": 3
   },
   "file_extension": ".py",
   "mimetype": "text/x-python",
   "name": "python",
   "nbconvert_exporter": "python",
   "pygments_lexer": "ipython3",
   "version": "3.8.5"
  }
 },
 "nbformat": 4,
 "nbformat_minor": 4
}
